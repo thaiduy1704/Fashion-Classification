{
 "cells": [
  {
   "cell_type": "markdown",
   "metadata": {
    "id": "MDLLRVVZA9EW"
   },
   "source": [
    "[![Open In Colab](https://colab.research.google.com/assets/colab-badge.svg)](https://colab.research.google.com/github/leanhducprovn/cdn/blob/master/tlu/elearning/machine-learning/fashion-mnist/fashion-mnist.ipynb)"
   ]
  },
  {
   "cell_type": "markdown",
   "metadata": {
    "id": "dLMxBwZIUk5e"
   },
   "source": [
    "# Đề tài :  Phân loại hình ảnh trang phục bằng phương pháp deep learning .\n",
    "\n",
    "                                        Môn : Nhập môn thị giác máy tính\n",
    "\n",
    "                                            Giảng viên :TS.Mai Tiến Dũng\n",
    "\n",
    "\n",
    "\n",
    "\n",
    "\n"
   ]
  },
  {
   "cell_type": "markdown",
   "metadata": {
    "id": "wGHQ5AJDLYUW"
   },
   "source": [
    "### Sinh viên thực hiện:"
   ]
  },
  {
   "cell_type": "markdown",
   "metadata": {
    "id": "zqtAFmv8L8zX"
   },
   "source": [
    "\n",
    "\n",
    "*   Ngô Đức Lộc - 18521008\n",
    "*   Lê Thành Đạt 17520332"
   ]
  },
  {
   "cell_type": "markdown",
   "metadata": {
    "id": "OJTv6qaKLdEp"
   },
   "source": [
    "### Giáo viên hướng dẫn:"
   ]
  },
  {
   "cell_type": "markdown",
   "metadata": {
    "id": "8eViz0FaMCWA"
   },
   "source": [
    "Giảng viên :TS.Mai Tiến Dũng"
   ]
  },
  {
   "cell_type": "markdown",
   "metadata": {
    "id": "Mg6s0mvmlMH7"
   },
   "source": [
    "### Tổng quan"
   ]
  },
  {
   "cell_type": "markdown",
   "metadata": {
    "id": "QPg-uN7XMOve"
   },
   "source": [
    "**Fashion MNIST** là tập dữ liệu được dùng để thay thế cho tập dữ liệu **MNIST kinh điển** thường dùng cho các chương trình \"Hello, World\" của machine learning trong lĩnh vực thị giác máy tính. Tập dữ liệu kinh điển vừa đề cập gồm ảnh của các con số (ví dụ 0, 1, 2) được viết tay. Các ảnh này có cùng định dạng tệp và độ phân giải với các ảnh về quần áo và giầy dép chúng ta sắp dùng.\n",
    "\n",
    "Với tập dữ liệu này, **60.000** ảnh sẽ được dùng để huấn luyện và **10.000** ảnh sẽ thường dùng để đánh giá khả năng phân loại nhận diện ảnh của mạng neuron.\n",
    "\n",
    "Mỗi ảnh là một mảng NumPy 2 chiều, 28x28, với mỗi pixel có giá trị từ 0 đến 255.\n",
    "\n",
    "<table>\n",
    "  <tr>\n",
    "    <td>\n",
    "      <img src=\"https://cdn.leanhduc.pro.vn/tlu/elearning/machine-learning/fashion-mnist/fashion-mnist.png\" alt=\"Fashion MNIST\"  width=\"100%\">\n",
    "    </td>\n",
    "  </tr>\n",
    "  <tr>\n",
    "    <td align=\"center\">\n",
    "      <b>Figure 1.</b> <a href=\"https://github.com/leanhducprovn/cdn/tree/master/tlu/elearning/machine-learning\">Fashion-MNIST samples</a>\n",
    "    </td>\n",
    "  </tr>\n",
    "</table>"
   ]
  },
  {
   "cell_type": "markdown",
   "metadata": {
    "id": "haODX3PNK8iy"
   },
   "source": [
    "#### Mô tả nhãn\n",
    "Nhãn là một mảng của các số nguyên từ 0 đến 9, tương ứng với mỗi lớp quần áo giày dép:\n",
    "<table>\n",
    "  <tr>\n",
    "    <th>Nhãn</th><th>0</th><th>1</th><th>2</th><th>3</th><th>4</th><th>5</th><th>6</th><th>7</th><th>8</th><th>9</th>\n",
    "    \n",
    "  </tr>\n",
    "  <tr>\n",
    "    <td>Loại</td>\n",
    "    <td>Áo thun</td>\n",
    "    <td>Quần dài</td>\n",
    "    <td>Áo len</td>\n",
    "    <td>Váy</td>\n",
    "    <td>Áo khoác</td>\n",
    "    <td>Sandal</td>\n",
    "    <td>Áo sơ mi</td>\n",
    "    <td>Giày</td>\n",
    "    <td>Túi xách</td>\n",
    "    <td>Ủng </td>\n",
    "  </tr>\n",
    "</table>"
   ]
  },
  {
   "cell_type": "markdown",
   "metadata": {
    "id": "SJqFEif2adfw"
   },
   "source": [
    "### Import thư viện"
   ]
  },
  {
   "cell_type": "code",
   "execution_count": 1,
   "metadata": {
    "colab": {
     "base_uri": "https://localhost:8080/"
    },
    "executionInfo": {
     "elapsed": 22803,
     "status": "ok",
     "timestamp": 1642528648466,
     "user": {
      "displayName": "Loc Ngo Duc",
      "photoUrl": "https://lh3.googleusercontent.com/a-/AOh14GjiaivwXodMqpbumwJ78tanrKuucqr3i43WVZpF=s64",
      "userId": "12597202813687440619"
     },
     "user_tz": -420
    },
    "id": "8RQFaseWSxDu",
    "outputId": "8a40fe29-826e-4e55-d49b-f7d646645b62"
   },
   "outputs": [
    {
     "name": "stdout",
     "output_type": "stream",
     "text": [
      "Mounted at /content/drive\n"
     ]
    }
   ],
   "source": [
    "from google.colab import drive\n",
    "drive.mount('/content/drive')"
   ]
  },
  {
   "cell_type": "code",
   "execution_count": 4,
   "metadata": {
    "executionInfo": {
     "elapsed": 2582,
     "status": "ok",
     "timestamp": 1642528733055,
     "user": {
      "displayName": "Loc Ngo Duc",
      "photoUrl": "https://lh3.googleusercontent.com/a-/AOh14GjiaivwXodMqpbumwJ78tanrKuucqr3i43WVZpF=s64",
      "userId": "12597202813687440619"
     },
     "user_tz": -420
    },
    "id": "uk-sg_wJZB4M"
   },
   "outputs": [],
   "source": [
    "import tensorflow as tf\n",
    "import numpy as np\n",
    "import matplotlib.pyplot as plt\n",
    "import pandas as pd"
   ]
  },
  {
   "cell_type": "markdown",
   "metadata": {
    "id": "i4V2UgwSbQuC"
   },
   "source": [
    "### Trực quan hóa dữ liệu"
   ]
  },
  {
   "cell_type": "code",
   "execution_count": 7,
   "metadata": {
    "colab": {
     "base_uri": "https://localhost:8080/",
     "height": 585
    },
    "executionInfo": {
     "elapsed": 1460,
     "status": "ok",
     "timestamp": 1642529154607,
     "user": {
      "displayName": "Loc Ngo Duc",
      "photoUrl": "https://lh3.googleusercontent.com/a-/AOh14GjiaivwXodMqpbumwJ78tanrKuucqr3i43WVZpF=s64",
      "userId": "12597202813687440619"
     },
     "user_tz": -420
    },
    "id": "YLGAKnx0bXpP",
    "outputId": "d80bc3ae-d5f8-4a23-8d76-0e83ca51ecee"
   },
   "outputs": [
    {
     "name": "stdout",
     "output_type": "stream",
     "text": [
      "Downloading data from https://storage.googleapis.com/tensorflow/tf-keras-datasets/train-labels-idx1-ubyte.gz\n",
      "32768/29515 [=================================] - 0s 0us/step\n",
      "40960/29515 [=========================================] - 0s 0us/step\n",
      "Downloading data from https://storage.googleapis.com/tensorflow/tf-keras-datasets/train-images-idx3-ubyte.gz\n",
      "26427392/26421880 [==============================] - 0s 0us/step\n",
      "26435584/26421880 [==============================] - 0s 0us/step\n",
      "Downloading data from https://storage.googleapis.com/tensorflow/tf-keras-datasets/t10k-labels-idx1-ubyte.gz\n",
      "16384/5148 [===============================================================================================] - 0s 0us/step\n",
      "Downloading data from https://storage.googleapis.com/tensorflow/tf-keras-datasets/t10k-images-idx3-ubyte.gz\n",
      "4423680/4422102 [==============================] - 0s 0us/step\n",
      "4431872/4422102 [==============================] - 0s 0us/step\n",
      "x_train shape: (60000, 28, 28)\n",
      "y_train shape: (60000,)\n",
      "Train set: 60000\n",
      "Test set: 10000\n",
      "y = 2 Áo len\n"
     ]
    },
    {
     "data": {
      "text/plain": [
       "<matplotlib.image.AxesImage at 0x7fd87acd5cd0>"
      ]
     },
     "execution_count": 7,
     "metadata": {},
     "output_type": "execute_result"
    },
    {
     "data": {
      "image/png": "[encoded data removed]",
      "text/plain": [
       "<Figure size 432x288 with 1 Axes>"
      ]
     },
     "metadata": {
      "needs_background": "light"
     },
     "output_type": "display_data"
    }
   ],
   "source": [
    "# Tải dữ liệu thời trang\n",
    "(x_train, y_train), (x_test, y_test) = tf.keras.datasets.fashion_mnist.load_data()\n",
    "\n",
    "# In hình dạng tập huấn luyện\n",
    "print(\"x_train shape:\", x_train.shape)\n",
    "print(\"y_train shape:\", y_train.shape)\n",
    "\n",
    "# In số lượng tập dữ liệu đào tạo và kiểm tra\n",
    "print('Train set:', x_train.shape[0])\n",
    "print('Test set:', x_test.shape[0])\n",
    "\n",
    "# Xác định các nhãn\n",
    "fashion_mnist_labels =[\n",
    "               'Áo thun', 'Quần dài', 'Áo len', 'Váy', 'Áo khoác',\n",
    "               'Sandal', 'Áo sơ mi', 'Giày', 'Túi xách', 'Ủng'\n",
    "               ]\n",
    "\n",
    "\n",
    "\n",
    "img_index = 5\n",
    "# y_train chứa các nhãn, từ 0 đến 9 (index 0 -> 9 tương ứng với mỗi loại fashion)\n",
    "label_index = y_train[img_index]\n",
    "\n",
    "# In nhãn, ví dụ nhãn thứ 2 là Pullover (áo phông)\n",
    "print(\"y = \" + str(label_index) + \" \" +(fashion_mnist_labels[label_index]))\n",
    "\n",
    "# Hiển thị một trong những hình ảnh từ tập dữ liệu đào tạo\n",
    "plt.imshow(x_train[img_index])"
   ]
  },
  {
   "cell_type": "markdown",
   "metadata": {
    "id": "867sJwDiDZq3"
   },
   "source": [
    "### Chuẩn hoá dữ liệu"
   ]
  },
  {
   "cell_type": "markdown",
   "metadata": {
    "id": "UnlUe8ZFTp1s"
   },
   "source": [
    "Chuẩn hóa các dữ liệu để chúng có cùng tỷ lệ. Ở đây, `x_train`, `x_test` mang các giá trị nguyên từ 0 đến 255."
   ]
  },
  {
   "cell_type": "code",
   "execution_count": 8,
   "metadata": {
    "executionInfo": {
     "elapsed": 381,
     "status": "ok",
     "timestamp": 1642529156801,
     "user": {
      "displayName": "Loc Ngo Duc",
      "photoUrl": "https://lh3.googleusercontent.com/a-/AOh14GjiaivwXodMqpbumwJ78tanrKuucqr3i43WVZpF=s64",
      "userId": "12597202813687440619"
     },
     "user_tz": -420
    },
    "id": "IS6nkCpmDfE6"
   },
   "outputs": [],
   "source": [
    "x_train = x_train.astype('float32') / 255\n",
    "x_test = x_test.astype('float32') / 255"
   ]
  },
  {
   "cell_type": "code",
   "execution_count": 9,
   "metadata": {
    "colab": {
     "base_uri": "https://localhost:8080/"
    },
    "executionInfo": {
     "elapsed": 3,
     "status": "ok",
     "timestamp": 1642529157481,
     "user": {
      "displayName": "Loc Ngo Duc",
      "photoUrl": "https://lh3.googleusercontent.com/a-/AOh14GjiaivwXodMqpbumwJ78tanrKuucqr3i43WVZpF=s64",
      "userId": "12597202813687440619"
     },
     "user_tz": -420
    },
    "id": "FmjaqA5BD1to",
    "outputId": "d56f3434-8e86-427b-85f6-de29b6d57571"
   },
   "outputs": [
    {
     "name": "stdout",
     "output_type": "stream",
     "text": [
      "Số lượng dữ liệu train: 60000\n",
      "Số lượng dữ liệu test: 10000\n"
     ]
    }
   ],
   "source": [
    "print(\"Số lượng dữ liệu train: \" + str(len(x_train)))\n",
    "print(\"Số lượng dữ liệu test: \" + str(len(x_test)))"
   ]
  },
  {
   "cell_type": "markdown",
   "metadata": {
    "id": "H3qr2hcFFGcA"
   },
   "source": [
    "### Chia dữ liệu thành các tập dữ liệu\n"
   ]
  },
  {
   "cell_type": "code",
   "execution_count": 10,
   "metadata": {
    "colab": {
     "base_uri": "https://localhost:8080/"
    },
    "executionInfo": {
     "elapsed": 536,
     "status": "ok",
     "timestamp": 1642529160096,
     "user": {
      "displayName": "Loc Ngo Duc",
      "photoUrl": "https://lh3.googleusercontent.com/a-/AOh14GjiaivwXodMqpbumwJ78tanrKuucqr3i43WVZpF=s64",
      "userId": "12597202813687440619"
     },
     "user_tz": -420
    },
    "id": "obRBJcMsUO38",
    "outputId": "daf5e8e8-2f8a-4305-a053-4c1c9724be33"
   },
   "outputs": [
    {
     "name": "stdout",
     "output_type": "stream",
     "text": [
      "x_train shape: (55000, 28, 28, 1)\n",
      "y_train shape: (55000, 10)\n",
      "Train set: 55000\n",
      "Validation set: 5000\n",
      "Test set: 10000\n"
     ]
    }
   ],
   "source": [
    "# Chia nhỏ dữ liệu thành các tập huấn luyện\n",
    "# Đặt 5000 vào validation set và giữ 55.000 còn lại cho training set\n",
    "(x_train, x_valid) = x_train[5000:], x_train[:5000]\n",
    "(y_train, y_valid) = y_train[5000:], y_train[:5000]\n",
    "\n",
    "# Định hình lại dữ liệu đầu vào từ (28, 28) thành (28, 28, 1)\n",
    "w, h = 28, 28\n",
    "x_train = x_train.reshape(x_train.shape[0], w, h, 1)\n",
    "x_valid = x_valid.reshape(x_valid.shape[0], w, h, 1)\n",
    "x_test = x_test.reshape(x_test.shape[0], w, h, 1)\n",
    "\n",
    "# One-hot encode the labels\n",
    "y_train = tf.keras.utils.to_categorical(y_train, 10)\n",
    "y_valid = tf.keras.utils.to_categorical(y_valid, 10)\n",
    "y_test = tf.keras.utils.to_categorical(y_test, 10)\n",
    "\n",
    "# In tập huấn luyện\n",
    "print(\"x_train shape:\", x_train.shape)\n",
    "print(\"y_train shape:\", y_train.shape)\n",
    "\n",
    "# In số lượng tập dữ liệu of training, validation, and test datasets\n",
    "print('Train set:', x_train.shape[0])\n",
    "print('Validation set:', x_valid.shape[0],)\n",
    "print('Test set:', x_test.shape[0],)"
   ]
  },
  {
   "cell_type": "markdown",
   "metadata": {
    "id": "HUKGw7QF698K"
   },
   "source": [
    "### Xây dựng mô hình"
   ]
  },
  {
   "cell_type": "markdown",
   "metadata": {
    "id": "LfO1WKWfYh1b"
   },
   "source": [
    "\n",
    "\n",
    "Ở bài này, bọn em sử dụng mô mình **Sequential model API** với một số API Keras sau:\n",
    "\n",
    "\n",
    "\n",
    "\n",
    "\n"
   ]
  },
  {
   "cell_type": "code",
   "execution_count": 11,
   "metadata": {
    "colab": {
     "base_uri": "https://localhost:8080/"
    },
    "executionInfo": {
     "elapsed": 409,
     "status": "ok",
     "timestamp": 1642529162229,
     "user": {
      "displayName": "Loc Ngo Duc",
      "photoUrl": "https://lh3.googleusercontent.com/a-/AOh14GjiaivwXodMqpbumwJ78tanrKuucqr3i43WVZpF=s64",
      "userId": "12597202813687440619"
     },
     "user_tz": -420
    },
    "id": "lJ_eCscHo8k8",
    "outputId": "3a1d3b89-b675-4c3b-ce1b-421ce85e0197"
   },
   "outputs": [
    {
     "name": "stdout",
     "output_type": "stream",
     "text": [
      "Model: \"sequential\"\n",
      "_________________________________________________________________\n",
      " Layer (type)                Output Shape              Param #   \n",
      "=================================================================\n",
      " conv2d (Conv2D)             (None, 28, 28, 64)        320       \n",
      "                                                                 \n",
      " max_pooling2d (MaxPooling2D  (None, 14, 14, 64)       0         \n",
      " )                                                               \n",
      "                                                                 \n",
      " dropout (Dropout)           (None, 14, 14, 64)        0         \n",
      "                                                                 \n",
      " conv2d_1 (Conv2D)           (None, 14, 14, 32)        8224      \n",
      "                                                                 \n",
      " max_pooling2d_1 (MaxPooling  (None, 7, 7, 32)         0         \n",
      " 2D)                                                             \n",
      "                                                                 \n",
      " dropout_1 (Dropout)         (None, 7, 7, 32)          0         \n",
      "                                                                 \n",
      " flatten (Flatten)           (None, 1568)              0         \n",
      "                                                                 \n",
      " dense (Dense)               (None, 256)               401664    \n",
      "                                                                 \n",
      " dropout_2 (Dropout)         (None, 256)               0         \n",
      "                                                                 \n",
      " dense_1 (Dense)             (None, 10)                2570      \n",
      "                                                                 \n",
      "=================================================================\n",
      "Total params: 412,778\n",
      "Trainable params: 412,778\n",
      "Non-trainable params: 0\n",
      "_________________________________________________________________\n"
     ]
    }
   ],
   "source": [
    "model = tf.keras.Sequential()\n",
    "model.add(tf.keras.layers.Conv2D(filters=64, kernel_size=2, padding='same', activation='relu', input_shape=(28,28,1)))\n",
    "\n",
    "model.add(tf.keras.layers.MaxPooling2D(pool_size=2))\n",
    "\n",
    "model.add(tf.keras.layers.Dropout(0.3))\n",
    "\n",
    "model.add(tf.keras.layers.Conv2D(filters=32, kernel_size=2, padding='same', activation='relu'))\n",
    "model.add(tf.keras.layers.MaxPooling2D(pool_size=2))\n",
    "model.add(tf.keras.layers.Dropout(0.3))\n",
    "\n",
    "model.add(tf.keras.layers.Flatten())\n",
    "model.add(tf.keras.layers.Dense(256, activation='relu'))\n",
    "model.add(tf.keras.layers.Dropout(0.5))\n",
    "model.add(tf.keras.layers.Dense(10, activation='softmax'))\n",
    "\n",
    "# Bảng tóm tắt mô hình\n",
    "model.summary()"
   ]
  },
  {
   "cell_type": "markdown",
   "metadata": {
    "id": "HyCYfF8wf6GL"
   },
   "source": [
    "### Biên dịch mô hình"
   ]
  },
  {
   "cell_type": "markdown",
   "metadata": {
    "id": "pV7glI6AgUTV"
   },
   "source": [
    "Cấu hình quy trình huấn luyện với **compile() API** trước khi huấn luyện mô hình."
   ]
  },
  {
   "cell_type": "code",
   "execution_count": 12,
   "metadata": {
    "executionInfo": {
     "elapsed": 6,
     "status": "ok",
     "timestamp": 1642529164039,
     "user": {
      "displayName": "Loc Ngo Duc",
      "photoUrl": "https://lh3.googleusercontent.com/a-/AOh14GjiaivwXodMqpbumwJ78tanrKuucqr3i43WVZpF=s64",
      "userId": "12597202813687440619"
     },
     "user_tz": -420
    },
    "id": "A55OGQaPg4DS"
   },
   "outputs": [],
   "source": [
    "model.compile(\n",
    "    loss='categorical_crossentropy',\n",
    "    optimizer='adam',\n",
    "    metrics=['accuracy']\n",
    ")"
   ]
  },
  {
   "cell_type": "markdown",
   "metadata": {
    "id": "pqhOFnYSiYzS"
   },
   "source": [
    "### Huấn luyện mô hô hình"
   ]
  },
  {
   "cell_type": "markdown",
   "metadata": {
    "id": "6zsyFA-1i3v0"
   },
   "source": [
    "Huấn luyện mô hình với **fit() API**.\n",
    "\n",
    "Sử dụng [ModelCheckpoint API](https://keras.io/callbacks/#modelcheckpoint) để lưu mô hình sau mỗi epoch. Đặt `save_best_only = True` để chỉ lưu khi độ chính xác của validation set được cải thiện."
   ]
  },
  {
   "cell_type": "code",
   "execution_count": 13,
   "metadata": {
    "colab": {
     "base_uri": "https://localhost:8080/"
    },
    "executionInfo": {
     "elapsed": 912769,
     "status": "ok",
     "timestamp": 1642530078700,
     "user": {
      "displayName": "Loc Ngo Duc",
      "photoUrl": "https://lh3.googleusercontent.com/a-/AOh14GjiaivwXodMqpbumwJ78tanrKuucqr3i43WVZpF=s64",
      "userId": "12597202813687440619"
     },
     "user_tz": -420
    },
    "id": "pjM8wJWmkUya",
    "outputId": "cedde92d-883f-4e98-9322-4de4e51296c5"
   },
   "outputs": [
    {
     "name": "stdout",
     "output_type": "stream",
     "text": [
      "Epoch 1/20\n",
      "550/550 [==============================] - ETA: 0s - loss: 0.6399 - accuracy: 0.7633\n",
      "Epoch 00001: val_loss improved from inf to 0.39408, saving model to model.weights.best.hdf5\n",
      "550/550 [==============================] - 47s 84ms/step - loss: 0.6399 - accuracy: 0.7633 - val_loss: 0.3941 - val_accuracy: 0.8612\n",
      "Epoch 2/20\n",
      "550/550 [==============================] - ETA: 0s - loss: 0.4283 - accuracy: 0.8454\n",
      "Epoch 00002: val_loss improved from 0.39408 to 0.35591, saving model to model.weights.best.hdf5\n",
      "550/550 [==============================] - 46s 84ms/step - loss: 0.4283 - accuracy: 0.8454 - val_loss: 0.3559 - val_accuracy: 0.8702\n",
      "Epoch 3/20\n",
      "550/550 [==============================] - ETA: 0s - loss: 0.3827 - accuracy: 0.8623\n",
      "Epoch 00003: val_loss improved from 0.35591 to 0.31974, saving model to model.weights.best.hdf5\n",
      "550/550 [==============================] - 46s 83ms/step - loss: 0.3827 - accuracy: 0.8623 - val_loss: 0.3197 - val_accuracy: 0.8832\n",
      "Epoch 4/20\n",
      "550/550 [==============================] - ETA: 0s - loss: 0.3539 - accuracy: 0.8714\n",
      "Epoch 00004: val_loss improved from 0.31974 to 0.28346, saving model to model.weights.best.hdf5\n",
      "550/550 [==============================] - 46s 84ms/step - loss: 0.3539 - accuracy: 0.8714 - val_loss: 0.2835 - val_accuracy: 0.8980\n",
      "Epoch 5/20\n",
      "550/550 [==============================] - ETA: 0s - loss: 0.3318 - accuracy: 0.8787\n",
      "Epoch 00005: val_loss improved from 0.28346 to 0.26858, saving model to model.weights.best.hdf5\n",
      "550/550 [==============================] - 46s 84ms/step - loss: 0.3318 - accuracy: 0.8787 - val_loss: 0.2686 - val_accuracy: 0.9030\n",
      "Epoch 6/20\n",
      "550/550 [==============================] - ETA: 0s - loss: 0.3166 - accuracy: 0.8841\n",
      "Epoch 00006: val_loss improved from 0.26858 to 0.25780, saving model to model.weights.best.hdf5\n",
      "550/550 [==============================] - 46s 83ms/step - loss: 0.3166 - accuracy: 0.8841 - val_loss: 0.2578 - val_accuracy: 0.9052\n",
      "Epoch 7/20\n",
      "550/550 [==============================] - ETA: 0s - loss: 0.3030 - accuracy: 0.8893\n",
      "Epoch 00007: val_loss improved from 0.25780 to 0.25301, saving model to model.weights.best.hdf5\n",
      "550/550 [==============================] - 46s 83ms/step - loss: 0.3030 - accuracy: 0.8893 - val_loss: 0.2530 - val_accuracy: 0.9096\n",
      "Epoch 8/20\n",
      "550/550 [==============================] - ETA: 0s - loss: 0.2902 - accuracy: 0.8935\n",
      "Epoch 00008: val_loss improved from 0.25301 to 0.25217, saving model to model.weights.best.hdf5\n",
      "550/550 [==============================] - 46s 83ms/step - loss: 0.2902 - accuracy: 0.8935 - val_loss: 0.2522 - val_accuracy: 0.9048\n",
      "Epoch 9/20\n",
      "550/550 [==============================] - ETA: 0s - loss: 0.2827 - accuracy: 0.8954\n",
      "Epoch 00009: val_loss improved from 0.25217 to 0.23481, saving model to model.weights.best.hdf5\n",
      "550/550 [==============================] - 45s 82ms/step - loss: 0.2827 - accuracy: 0.8954 - val_loss: 0.2348 - val_accuracy: 0.9132\n",
      "Epoch 10/20\n",
      "550/550 [==============================] - ETA: 0s - loss: 0.2719 - accuracy: 0.9009\n",
      "Epoch 00010: val_loss improved from 0.23481 to 0.23418, saving model to model.weights.best.hdf5\n",
      "550/550 [==============================] - 45s 83ms/step - loss: 0.2719 - accuracy: 0.9009 - val_loss: 0.2342 - val_accuracy: 0.9130\n",
      "Epoch 11/20\n",
      "550/550 [==============================] - ETA: 0s - loss: 0.2643 - accuracy: 0.9026\n",
      "Epoch 00011: val_loss improved from 0.23418 to 0.22310, saving model to model.weights.best.hdf5\n",
      "550/550 [==============================] - 46s 83ms/step - loss: 0.2643 - accuracy: 0.9026 - val_loss: 0.2231 - val_accuracy: 0.9196\n",
      "Epoch 12/20\n",
      "550/550 [==============================] - ETA: 0s - loss: 0.2559 - accuracy: 0.9057\n",
      "Epoch 00012: val_loss improved from 0.22310 to 0.21986, saving model to model.weights.best.hdf5\n",
      "550/550 [==============================] - 45s 83ms/step - loss: 0.2559 - accuracy: 0.9057 - val_loss: 0.2199 - val_accuracy: 0.9192\n",
      "Epoch 13/20\n",
      "550/550 [==============================] - ETA: 0s - loss: 0.2507 - accuracy: 0.9079\n",
      "Epoch 00013: val_loss improved from 0.21986 to 0.21923, saving model to model.weights.best.hdf5\n",
      "550/550 [==============================] - 45s 83ms/step - loss: 0.2507 - accuracy: 0.9079 - val_loss: 0.2192 - val_accuracy: 0.9168\n",
      "Epoch 14/20\n",
      "550/550 [==============================] - ETA: 0s - loss: 0.2434 - accuracy: 0.9093\n",
      "Epoch 00014: val_loss improved from 0.21923 to 0.21391, saving model to model.weights.best.hdf5\n",
      "550/550 [==============================] - 45s 82ms/step - loss: 0.2434 - accuracy: 0.9093 - val_loss: 0.2139 - val_accuracy: 0.9202\n",
      "Epoch 15/20\n",
      "550/550 [==============================] - ETA: 0s - loss: 0.2430 - accuracy: 0.9095\n",
      "Epoch 00015: val_loss did not improve from 0.21391\n",
      "550/550 [==============================] - 45s 82ms/step - loss: 0.2430 - accuracy: 0.9095 - val_loss: 0.2156 - val_accuracy: 0.9216\n",
      "Epoch 16/20\n",
      "550/550 [==============================] - ETA: 0s - loss: 0.2350 - accuracy: 0.9133\n",
      "Epoch 00016: val_loss improved from 0.21391 to 0.20537, saving model to model.weights.best.hdf5\n",
      "550/550 [==============================] - 45s 82ms/step - loss: 0.2350 - accuracy: 0.9133 - val_loss: 0.2054 - val_accuracy: 0.9218\n",
      "Epoch 17/20\n",
      "550/550 [==============================] - ETA: 0s - loss: 0.2294 - accuracy: 0.9152\n",
      "Epoch 00017: val_loss did not improve from 0.20537\n",
      "550/550 [==============================] - 45s 82ms/step - loss: 0.2294 - accuracy: 0.9152 - val_loss: 0.2101 - val_accuracy: 0.9210\n",
      "Epoch 18/20\n",
      "550/550 [==============================] - ETA: 0s - loss: 0.2278 - accuracy: 0.9157\n",
      "Epoch 00018: val_loss did not improve from 0.20537\n",
      "550/550 [==============================] - 45s 82ms/step - loss: 0.2278 - accuracy: 0.9157 - val_loss: 0.2103 - val_accuracy: 0.9206\n",
      "Epoch 19/20\n",
      "550/550 [==============================] - ETA: 0s - loss: 0.2233 - accuracy: 0.9170\n",
      "Epoch 00019: val_loss did not improve from 0.20537\n",
      "550/550 [==============================] - 45s 82ms/step - loss: 0.2233 - accuracy: 0.9170 - val_loss: 0.2066 - val_accuracy: 0.9240\n",
      "Epoch 20/20\n",
      "550/550 [==============================] - ETA: 0s - loss: 0.2221 - accuracy: 0.9163\n",
      "Epoch 00020: val_loss did not improve from 0.20537\n",
      "550/550 [==============================] - 45s 82ms/step - loss: 0.2221 - accuracy: 0.9163 - val_loss: 0.2158 - val_accuracy: 0.9168\n"
     ]
    }
   ],
   "source": [
    "from keras.callbacks import ModelCheckpoint\n",
    "\n",
    "checkpointer = ModelCheckpoint(\n",
    "    filepath='model.weights.best.hdf5',\n",
    "    verbose = 1,\n",
    "    save_best_only = True\n",
    ")\n",
    "\n",
    "history = model.fit(\n",
    "    x_train,\n",
    "    y_train,\n",
    "    batch_size = 100,\n",
    "    epochs = 20,\n",
    "    validation_data=(x_valid, y_valid),\n",
    "    callbacks=[checkpointer]\n",
    ")"
   ]
  },
  {
   "cell_type": "code",
   "execution_count": 14,
   "metadata": {
    "colab": {
     "base_uri": "https://localhost:8080/",
     "height": 349
    },
    "executionInfo": {
     "elapsed": 38,
     "status": "ok",
     "timestamp": 1642530078706,
     "user": {
      "displayName": "Loc Ngo Duc",
      "photoUrl": "https://lh3.googleusercontent.com/a-/AOh14GjiaivwXodMqpbumwJ78tanrKuucqr3i43WVZpF=s64",
      "userId": "12597202813687440619"
     },
     "user_tz": -420
    },
    "id": "ZMMEA63U1VB2",
    "outputId": "5b56dc9f-72d5-4457-dc1c-c46a97a82c45"
   },
   "outputs": [
    {
     "data": {
      "image/png": "[encoded data removed]",
      "text/plain": [
       "<Figure size 1440x360 with 2 Axes>"
      ]
     },
     "metadata": {
      "needs_background": "light"
     },
     "output_type": "display_data"
    }
   ],
   "source": [
    "plt.figure(figsize = (20,5))\n",
    "\n",
    "plt.subplot(1,2,1)\n",
    "plt.plot(history.history['accuracy'])\n",
    "plt.plot(history.history['val_accuracy'])\n",
    "plt.title('Training and Validation Accuracy')\n",
    "plt.ylabel('Accuracy')\n",
    "plt.xlabel('Epoch')\n",
    "plt.legend(['Training Accuracy', 'Validation Accuracy'], loc='upper left')\n",
    "\n",
    "\n",
    "plt.subplot(1,2,2)\n",
    "plt.plot(history.history['loss'])\n",
    "plt.plot(history.history['val_loss'])\n",
    "plt.title('Training and Validation Loss')\n",
    "plt.ylabel('Loss')\n",
    "plt.xlabel('Epoch')\n",
    "plt.legend(['Train Loss', 'Validation Loss'], loc='upper right')\n",
    "plt.show()"
   ]
  },
  {
   "cell_type": "markdown",
   "metadata": {
    "id": "Om6kdZwwn8nB"
   },
   "source": [
    "### Tải mô hình với validation tốt nhất"
   ]
  },
  {
   "cell_type": "code",
   "execution_count": 15,
   "metadata": {
    "executionInfo": {
     "elapsed": 391,
     "status": "ok",
     "timestamp": 1642537147736,
     "user": {
      "displayName": "Loc Ngo Duc",
      "photoUrl": "https://lh3.googleusercontent.com/a-/AOh14GjiaivwXodMqpbumwJ78tanrKuucqr3i43WVZpF=s64",
      "userId": "12597202813687440619"
     },
     "user_tz": -420
    },
    "id": "a_RSfZ0hoEBN"
   },
   "outputs": [],
   "source": [
    "model.load_weights('model.weights.best.hdf5')"
   ]
  },
  {
   "cell_type": "markdown",
   "metadata": {
    "id": "2-I04n9pNh28"
   },
   "source": [
    "### Dự đoán"
   ]
  },
  {
   "cell_type": "markdown",
   "metadata": {
    "id": "VdK-jne-Nl1d"
   },
   "source": [
    "In ra 15 hình ảnh từ tập dữ liệu test set và đặt tiêu đề với dự đoán. Nếu dự đoán đúng (giống nhãn), thì tiêu đề sẽ có màu xanh và ngược lại là màu đỏ."
   ]
  },
  {
   "cell_type": "code",
   "execution_count": 16,
   "metadata": {
    "colab": {
     "base_uri": "https://localhost:8080/",
     "height": 594
    },
    "executionInfo": {
     "elapsed": 3999,
     "status": "ok",
     "timestamp": 1642537153935,
     "user": {
      "displayName": "Loc Ngo Duc",
      "photoUrl": "https://lh3.googleusercontent.com/a-/AOh14GjiaivwXodMqpbumwJ78tanrKuucqr3i43WVZpF=s64",
      "userId": "12597202813687440619"
     },
     "user_tz": -420
    },
    "id": "MGj8YN14PEX5",
    "outputId": "aba264d0-402e-400e-ad19-c5aff27ad56f"
   },
   "outputs": [
    {
     "data": {
      "image/png": "[encoded data removed]",
      "text/plain": [
       "<Figure size 1440x720 with 15 Axes>"
      ]
     },
     "metadata": {},
     "output_type": "display_data"
    }
   ],
   "source": [
    "y_check = model.predict(x_test)\n",
    "figure = plt.figure(figsize=(20,10)) # Đặt kích thức hình ảnh\n",
    "for i, index in enumerate(np.random.choice(x_test.shape[0], size=15, replace=False)): # ramdom 15 ảnh từ tập dữ liệu test\n",
    "    ax = figure.add_subplot(3, 5, i + 1, xticks=[], yticks=[])\n",
    "    \n",
    "    # Hiển thị từng hình ảnh\n",
    "    ax.imshow(np.squeeze(x_test[index]))\n",
    "    predict_index = np.argmax(y_check[index])\n",
    "    true_index = np.argmax(y_test[index])\n",
    "\n",
    "    # Đặt tiêu đề cho mỗi hình ảnh\n",
    "    ax.set_title(\"{} ({})\".format(\n",
    "        fashion_mnist_labels[predict_index],\n",
    "        fashion_mnist_labels[true_index]),\n",
    "        color=(\"green\" if predict_index == true_index else \"red\")\n",
    "    )"
   ]
  },
  {
   "cell_type": "markdown",
   "metadata": {
    "id": "GWWght_IpC3o"
   },
   "source": [
    "### Kiểm tra độ chính xác"
   ]
  },
  {
   "cell_type": "code",
   "execution_count": 17,
   "metadata": {
    "colab": {
     "base_uri": "https://localhost:8080/"
    },
    "executionInfo": {
     "elapsed": 3168,
     "status": "ok",
     "timestamp": 1642537160465,
     "user": {
      "displayName": "Loc Ngo Duc",
      "photoUrl": "https://lh3.googleusercontent.com/a-/AOh14GjiaivwXodMqpbumwJ78tanrKuucqr3i43WVZpF=s64",
      "userId": "12597202813687440619"
     },
     "user_tz": -420
    },
    "id": "qrvbG5QfpNHT",
    "outputId": "725ada92-d169-4264-f587-836f5a6622f2"
   },
   "outputs": [
    {
     "name": "stdout",
     "output_type": "stream",
     "text": [
      "Test loss: 0.22775110602378845\n",
      "Test accuracy: 0.9157999753952026\n"
     ]
    }
   ],
   "source": [
    "# Đánh giá mô hình trên test set\n",
    "score = model.evaluate(x_test, y_test, verbose=0)\n",
    "\n",
    "# \bKiểm tra độ chính xác\n",
    "print(\"Test loss:\", score[0])\n",
    "print(\"Test accuracy:\", score[1])"
   ]
  },
  {
   "cell_type": "markdown",
   "metadata": {
    "id": "WwIQCagqYp60"
   },
   "source": [
    "Đến thời điểm này, chúng ta thấy rằng độ accuracy của mô hình, khi đánh giá bằng tập kiểm thử, hơi thấp hơn so với số liệu trong quá trình huấn luyện. Khoảng cách giữa hai độ accuracy khi huấn luyện và khi kiểm thử thể hiện sự overfitting. Overfitting xảy ra khi một mô hình ML hoạt động kém hơn khi được cung cấp các đầu vào mới, mà mô hình chưa từng thấy trước đây trong quá trình đào tạo."
   ]
  },
  {
   "cell_type": "markdown",
   "metadata": {
    "id": "3l46UW9KSa1y"
   },
   "source": [
    "### Kết luận"
   ]
  },
  {
   "cell_type": "markdown",
   "metadata": {
    "id": "rqnbRU65SnAT"
   },
   "source": [
    "Huấn luyện thành công Convolutional Neural Network (CNN) để phân loại Fashion-MNIST với độ chính xác khoảng 91% "
   ]
  },
  {
   "cell_type": "markdown",
   "metadata": {
    "id": "1MXFlD9QJ8-L"
   },
   "source": [
    "# Hình ảnh thực tế"
   ]
  },
  {
   "cell_type": "code",
   "execution_count": 18,
   "metadata": {
    "colab": {
     "base_uri": "https://localhost:8080/"
    },
    "executionInfo": {
     "elapsed": 410,
     "status": "ok",
     "timestamp": 1642537163744,
     "user": {
      "displayName": "Loc Ngo Duc",
      "photoUrl": "https://lh3.googleusercontent.com/a-/AOh14GjiaivwXodMqpbumwJ78tanrKuucqr3i43WVZpF=s64",
      "userId": "12597202813687440619"
     },
     "user_tz": -420
    },
    "id": "ASiiFQny1MTS",
    "outputId": "050d7135-8987-45eb-a3f2-8bf99c1ebb70"
   },
   "outputs": [
    {
     "name": "stdout",
     "output_type": "stream",
     "text": [
      "1\n",
      "[0.0, 0.0, 0.0, 0.0, 0.0, 0.0, 0.0, 0.0, 0.0, 0.0, 0.0, 0.0, 0.0, 0.0, 0.0, 0.0, 0.0, 0.0, 0.0, 0.0, 0.0, 0.0, 0.0, 0.0, 0.0, 0.0, 0.0, 0.0, 0.0, 0.0, 0.0, 0.0, 0.0, 0.0, 0.0, 0.0, 0.0, 0.0, 0.0, 0.0, 0.0, 0.0, 0.0, 0.0, 0.0, 0.0, 0.0, 0.0, 0.0, 0.0, 0.0, 0.0, 0.0, 0.0, 0.0, 0.0, 0.0, 0.0, 0.0, 0.0, 0.0, 0.0, 0.0, 0.0, 0.0, 0.0, 0.0, 0.0, 0.0, 0.0, 0.0, 0.0, 0.0, 0.0, 0.0, 0.0, 0.0, 0.0, 0.0, 0.0, 0.0, 0.0, 0.0, 0.0, 0.0, 0.0, 0.0, 0.0, 0.0, 0.0, 0.0, 0.0, 0.0, 0.0, 0.0, 0.0, 0.0, 0.0, 0.0, 0.0, 0.0, 0.0, 0.0, 0.0, 0.0, 0.0, 0.0, 0.0, 0.0, 0.0, 0.0, 0.0, 0.0, 0.0, 0.0, 0.0, 0.0, 0.0, 0.0, 0.0, 0.0, 0.0, 0.0, 0.00392156862745098, 0.0, 0.0, 0.0, 0.0, 0.00392156862745098, 0.0, 0.0, 0.0, 0.0, 0.0, 0.0, 0.0, 0.0, 0.0, 0.0, 0.0, 0.0, 0.0, 0.0, 0.0, 0.0, 0.0, 0.0, 0.0, 0.0, 0.0, 0.0, 0.0, 0.3333333333333333, 0.7529411764705882, 0.6078431372549019, 0.14901960784313725, 0.0, 0.0, 0.0, 0.0, 0.0, 0.0, 0.0, 0.0, 0.0, 0.0, 0.0, 0.0, 0.0, 0.0, 0.0, 0.0, 0.0, 0.0, 0.0, 0.0, 0.0, 0.00392156862745098, 0.0, 0.011764705882352941, 1.0, 0.0, 0.054901960784313725, 1.0, 0.0, 0.0, 0.00392156862745098, 0.0, 0.0, 0.0, 0.0, 0.0, 0.0, 0.0, 0.0, 0.0, 0.0, 0.0, 0.0, 0.0, 0.0, 0.0, 0.0, 0.0, 0.0, 0.0196078431372549, 0.0, 0.4980392156862745, 0.6588235294117647, 0.0, 0.0, 0.7333333333333333, 0.33725490196078434, 0.0, 0.0196078431372549, 0.0, 0.0, 0.0, 0.0, 0.0, 0.0, 0.0, 0.0, 0.0, 0.0, 0.0, 0.0, 0.0, 0.0, 0.0, 0.0, 0.01568627450980392, 0.0196078431372549, 0.01568627450980392, 0.0, 0.8941176470588236, 0.4235294117647059, 0.0, 0.0, 0.5137254901960784, 0.7019607843137254, 0.0, 0.0196078431372549, 0.011764705882352941, 0.00784313725490196, 0.0, 0.0, 0.0, 0.0, 0.0, 0.0, 0.0, 0.0, 0.0, 0.0, 0.0, 0.0, 0.0, 0.0, 0.0, 0.0, 0.0, 0.0, 1.0, 0.34901960784313724, 0.0, 0.0, 0.49019607843137253, 1.0, 0.0, 0.0, 0.0, 0.0, 0.0, 0.0, 0.0, 0.0, 0.0, 0.0, 0.0, 0.0, 0.0, 0.0, 0.0, 0.0, 0.0, 0.0, 0.25098039215686274, 0.3333333333333333, 0.2196078431372549, 0.37254901960784315, 1.0, 0.49411764705882355, 0.0, 0.0, 0.5725490196078431, 1.0, 0.050980392156862744, 0.0, 0.0, 0.0, 0.0, 0.0, 0.0, 0.0, 0.0, 0.0, 0.0, 0.0, 0.0, 0.0, 0.0, 0.00392156862745098, 0.0, 0.0, 1.0, 1.0, 0.8627450980392157, 0.8313725490196079, 0.8117647058823529, 0.6901960784313725, 0.8274509803921568, 0.788235294117647, 0.8823529411764706, 0.7843137254901961, 0.7058823529411765, 0.8313725490196079, 0.9294117647058824, 1.0, 0.0, 0.0, 0.00392156862745098, 0.0, 0.0, 0.0, 0.0, 0.0, 0.0, 0.0, 0.0, 0.00392156862745098, 0.0, 0.0, 0.9686274509803922, 0.7411764705882353, 0.7137254901960784, 0.4823529411764706, 0.6823529411764706, 0.7372549019607844, 0.6980392156862745, 0.6941176470588235, 0.4666666666666667, 0.6823529411764706, 0.7215686274509804, 0.7372549019607844, 0.807843137254902, 1.0, 0.0, 0.0, 0.00784313725490196, 0.0, 0.0, 0.0, 0.0, 0.0, 0.0, 0.0, 0.0, 0.00392156862745098, 0.0, 0.0, 1.0, 0.807843137254902, 0.7803921568627451, 0.803921568627451, 0.7725490196078432, 0.7568627450980392, 0.7647058823529411, 0.7647058823529411, 0.7647058823529411, 0.7764705882352941, 0.7490196078431373, 0.7686274509803922, 0.8, 1.0, 0.0, 0.0, 0.00784313725490196, 0.0, 0.0, 0.0, 0.0, 0.0, 0.0, 0.0, 0.0, 0.00784313725490196, 0.0, 0.0, 1.0, 0.8196078431372549, 0.8117647058823529, 0.796078431372549, 0.7686274509803922, 0.7803921568627451, 0.788235294117647, 0.7843137254901961, 0.8, 0.792156862745098, 0.803921568627451, 0.8352941176470589, 0.8196078431372549, 1.0, 0.0, 0.0, 0.00784313725490196, 0.0, 0.0, 0.0, 0.0, 0.0, 0.0, 0.0, 0.0, 0.00784313725490196, 0.0, 0.0, 1.0, 0.803921568627451, 0.8156862745098039, 0.807843137254902, 0.796078431372549, 0.8, 0.803921568627451, 0.8117647058823529, 0.8235294117647058, 0.8313725490196079, 0.8352941176470589, 0.8235294117647058, 0.8, 1.0, 0.0, 0.0, 0.00784313725490196, 0.0, 0.0, 0.0, 0.0, 0.0, 0.0, 0.0, 0.0, 0.011764705882352941, 0.0, 0.0196078431372549, 1.0, 0.8117647058823529, 0.8392156862745098, 0.8274509803921568, 0.8117647058823529, 0.8313725490196079, 0.8196078431372549, 0.8196078431372549, 0.8196078431372549, 0.8352941176470589, 0.8352941176470589, 0.8117647058823529, 0.792156862745098, 1.0, 0.0, 0.0, 0.00784313725490196, 0.0, 0.0, 0.0, 0.0, 0.0, 0.0, 0.0, 0.0, 0.011764705882352941, 0.0, 0.07450980392156863, 1.0, 0.803921568627451, 0.8352941176470589, 0.8352941176470589, 0.8352941176470589, 0.8313725490196079, 0.8313725490196079, 0.8313725490196079, 0.8274509803921568, 0.8470588235294118, 0.8313725490196079, 0.8196078431372549, 0.8117647058823529, 1.0, 0.0, 0.0, 0.00784313725490196, 0.0, 0.0, 0.0, 0.0, 0.0, 0.0, 0.0, 0.0, 0.011764705882352941, 0.0, 0.11764705882352941, 1.0, 0.796078431372549, 0.8392156862745098, 0.8352941176470589, 0.8392156862745098, 0.8470588235294118, 0.8431372549019608, 0.8431372549019608, 0.8431372549019608, 0.8666666666666667, 0.8588235294117647, 0.8352941176470589, 0.8313725490196079, 1.0, 0.0, 0.0, 0.00784313725490196, 0.0, 0.0, 0.0, 0.0, 0.0, 0.0, 0.0, 0.0, 0.011764705882352941, 0.0, 0.19607843137254902, 1.0, 0.792156862745098, 0.8117647058823529, 0.796078431372549, 0.8, 0.803921568627451, 0.8117647058823529, 0.8235294117647058, 0.8352941176470589, 0.8509803921568627, 0.8627450980392157, 0.8470588235294118, 0.8509803921568627, 1.0, 0.0, 0.0, 0.00784313725490196, 0.0, 0.0, 0.0, 0.0, 0.0, 0.0, 0.0, 0.0, 0.00784313725490196, 0.0, 0.1411764705882353, 1.0, 1.0, 1.0, 1.0, 1.0, 1.0, 0.9764705882352941, 0.9372549019607843, 0.8862745098039215, 0.8588235294117647, 0.8352941176470589, 0.8235294117647058, 0.792156862745098, 1.0, 0.0, 0.0, 0.00784313725490196, 0.0, 0.0, 0.0, 0.0, 0.0, 0.0, 0.0, 0.0, 0.0, 0.0, 0.0, 0.0, 0.0, 0.09803921568627451, 0.2627450980392157, 0.43137254901960786, 0.6039215686274509, 0.7764705882352941, 0.9176470588235294, 1.0, 1.0, 1.0, 1.0, 1.0, 1.0, 0.5450980392156862, 0.0, 0.00392156862745098, 0.0, 0.0, 0.0, 0.0, 0.0, 0.0, 0.0, 0.0, 0.0, 0.0, 0.0, 0.0, 0.0, 0.0, 0.0, 0.0, 0.0, 0.0, 0.0, 0.0, 0.0, 0.058823529411764705, 0.20784313725490197, 0.36470588235294116, 0.4588235294117647, 0.0196078431372549, 0.0, 0.00392156862745098, 0.0, 0.0, 0.0, 0.0, 0.0, 0.0, 0.0, 0.0, 0.0, 0.0, 0.0, 0.00392156862745098, 0.00784313725490196, 0.011764705882352941, 0.01568627450980392, 0.01568627450980392, 0.011764705882352941, 0.00784313725490196, 0.0, 0.0, 0.0, 0.0, 0.0, 0.0, 0.0, 0.0, 0.0, 0.0, 0.0, 0.0, 0.0, 0.0, 0.0, 0.0, 0.0, 0.0, 0.0, 0.0, 0.0, 0.0, 0.0, 0.0, 0.0, 0.0, 0.0, 0.0, 0.0, 0.0, 0.0, 0.0, 0.0, 0.0, 0.0, 0.0, 0.0, 0.0, 0.0, 0.0, 0.0, 0.0, 0.0, 0.0, 0.0, 0.0, 0.0, 0.0, 0.0, 0.0, 0.0, 0.0, 0.0, 0.0, 0.0, 0.0, 0.0, 0.0, 0.0, 0.0, 0.0, 0.0, 0.0, 0.0, 0.0, 0.0, 0.0, 0.0, 0.0, 0.0, 0.0, 0.0, 0.0, 0.0, 0.0, 0.0, 0.0, 0.0, 0.0, 0.0, 0.0, 0.0, 0.0, 0.0, 0.0, 0.0, 0.0, 0.0, 0.0, 0.0, 0.0, 0.0, 0.0, 0.0, 0.0, 0.0, 0.0, 0.0, 0.0, 0.0, 0.0, 0.0, 0.0, 0.0, 0.0, 0.0, 0.0, 0.0, 0.0, 0.0, 0.0, 0.0, 0.0, 0.0, 0.0, 0.0, 0.0, 0.0, 0.0, 0.0, 0.0, 0.0, 0.0, 0.0, 0.0, 0.0]\n"
     ]
    }
   ],
   "source": [
    "from PIL import Image, ImageFilter\n",
    "\n",
    "\n",
    "def imageprepare( file_path):\n",
    "    im = Image.open(file_path).convert('L')\n",
    "    width = float(im.size[0])\n",
    "    height = float(im.size[1])\n",
    "    newImage = Image.new('L', (28, 28), (255))  # creates white canvas of 28x28 pixels\n",
    "\n",
    "    if width > height:  # check which dimension is bigger\n",
    "        # Width is bigger. Width becomes 20 pixels.\n",
    "        nheight = int(round((20.0 / width * height), 0))  # resize height according to ratio width\n",
    "        if (nheight == 0):  # rare case but minimum is 1 pixel\n",
    "            nheight = 1\n",
    "            # resize and sharpen\n",
    "        img = im.resize((20, nheight), Image.ANTIALIAS).filter(ImageFilter.SHARPEN)\n",
    "        wtop = int(round(((28 - nheight) / 2), 0))  # calculate horizontal position\n",
    "        newImage.paste(img, (4, wtop))  # paste resized image on white canvas\n",
    "    else:\n",
    "        # Height is bigger. Heigth becomes 20 pixels.\n",
    "        nwidth = int(round((20.0 / height * width), 0))  # resize width according to ratio height\n",
    "        if (nwidth == 0):  # rare case but minimum is 1 pixel\n",
    "            nwidth = 1\n",
    "            # resize and sharpen\n",
    "        img = im.resize((nwidth, 20), Image.ANTIALIAS).filter(ImageFilter.SHARPEN)\n",
    "        wleft = int(round(((28 - nwidth) / 2), 0))  # caculate vertical pozition\n",
    "        newImage.paste(img, (wleft, 4))  # paste resized image on white canvas\n",
    "\n",
    "    # newImage.save(\"sample.png\n",
    "\n",
    "    tv = list(newImage.getdata())  # get pixel values\n",
    "\n",
    "    # normalize pixels to 0 and 1. 0 is pure white, 1 is pure black.\n",
    "    tva = [(255 - x) * 1.0 / 255.0 for x in tv]\n",
    "    # print(tva)\n",
    "    return tva\n",
    "\n",
    "x=[imageprepare('/content/drive/MyDrive/Đồ án /image/tui xach.jpg')]#file path here\n",
    "print(len(x))# mnist IMAGES are 28x28=784 pixels\n",
    "print(x[0])\n",
    "# converting 784 sized 1d array to 24x24 sized 2d array \n",
    "newArr=[[0 for d in range(28)] for y in range(28)]\n",
    "k = 0\n",
    "for i in range(28):\n",
    "    for j in range(28):\n",
    "        newArr[i][j]=x[0][k]\n",
    "        k=k+1"
   ]
  },
  {
   "cell_type": "code",
   "execution_count": 19,
   "metadata": {
    "colab": {
     "base_uri": "https://localhost:8080/"
    },
    "executionInfo": {
     "elapsed": 555,
     "status": "ok",
     "timestamp": 1642537167133,
     "user": {
      "displayName": "Loc Ngo Duc",
      "photoUrl": "https://lh3.googleusercontent.com/a-/AOh14GjiaivwXodMqpbumwJ78tanrKuucqr3i43WVZpF=s64",
      "userId": "12597202813687440619"
     },
     "user_tz": -420
    },
    "id": "1ljGijmIKBPi",
    "outputId": "78d893f0-a931-45b9-a8bb-bb2b7748f2f4"
   },
   "outputs": [
    {
     "name": "stdout",
     "output_type": "stream",
     "text": [
      "(28, 28)\n",
      "(1, 28, 28)\n",
      "<class 'numpy.ndarray'>\n"
     ]
    }
   ],
   "source": [
    "arr=np.array(newArr)\n",
    "print(arr.shape)\n",
    "arr = (np.expand_dims(arr,0))\n",
    "print(arr.shape)\n",
    "print(type(arr))"
   ]
  },
  {
   "cell_type": "code",
   "execution_count": 20,
   "metadata": {
    "executionInfo": {
     "elapsed": 10,
     "status": "ok",
     "timestamp": 1642537168865,
     "user": {
      "displayName": "Loc Ngo Duc",
      "photoUrl": "https://lh3.googleusercontent.com/a-/AOh14GjiaivwXodMqpbumwJ78tanrKuucqr3i43WVZpF=s64",
      "userId": "12597202813687440619"
     },
     "user_tz": -420
    },
    "id": "hE-ulbMsU6gS"
   },
   "outputs": [],
   "source": [
    "demo = model.predict(arr)"
   ]
  },
  {
   "cell_type": "code",
   "execution_count": 21,
   "metadata": {
    "colab": {
     "base_uri": "https://localhost:8080/",
     "height": 36
    },
    "executionInfo": {
     "elapsed": 4,
     "status": "ok",
     "timestamp": 1642537170376,
     "user": {
      "displayName": "Loc Ngo Duc",
      "photoUrl": "https://lh3.googleusercontent.com/a-/AOh14GjiaivwXodMqpbumwJ78tanrKuucqr3i43WVZpF=s64",
      "userId": "12597202813687440619"
     },
     "user_tz": -420
    },
    "id": "CyswmNf7U_CV",
    "outputId": "315d8a65-6b64-4b62-f473-e295c568591f"
   },
   "outputs": [
    {
     "data": {
      "application/vnd.google.colaboratory.intrinsic+json": {
       "type": "string"
      },
      "text/plain": [
       "'Túi xách'"
      ]
     },
     "execution_count": 21,
     "metadata": {},
     "output_type": "execute_result"
    }
   ],
   "source": [
    "fashion_mnist_labels[np.argmax(demo)]"
   ]
  },
  {
   "cell_type": "code",
   "execution_count": 22,
   "metadata": {
    "colab": {
     "base_uri": "https://localhost:8080/",
     "height": 265
    },
    "executionInfo": {
     "elapsed": 436,
     "status": "ok",
     "timestamp": 1642537172715,
     "user": {
      "displayName": "Loc Ngo Duc",
      "photoUrl": "https://lh3.googleusercontent.com/a-/AOh14GjiaivwXodMqpbumwJ78tanrKuucqr3i43WVZpF=s64",
      "userId": "12597202813687440619"
     },
     "user_tz": -420
    },
    "id": "_fbw_9akKDxt",
    "outputId": "e3485f9b-39de-4bff-80c7-a3e1bf8fa5dd"
   },
   "outputs": [
    {
     "data": {
      "image/png": "[encoded data removed]",
      "text/plain": [
       "<Figure size 432x288 with 1 Axes>"
      ]
     },
     "metadata": {
      "needs_background": "light"
     },
     "output_type": "display_data"
    }
   ],
   "source": [
    "plt.imshow(newArr)\n",
    "plt.show()"
   ]
  },
  {
   "cell_type": "code",
   "execution_count": 23,
   "metadata": {
    "executionInfo": {
     "elapsed": 394,
     "status": "ok",
     "timestamp": 1642537175140,
     "user": {
      "displayName": "Loc Ngo Duc",
      "photoUrl": "https://lh3.googleusercontent.com/a-/AOh14GjiaivwXodMqpbumwJ78tanrKuucqr3i43WVZpF=s64",
      "userId": "12597202813687440619"
     },
     "user_tz": -420
    },
    "id": "KNcFryV1KGYa"
   },
   "outputs": [],
   "source": [
    "demo = demo.reshape(10)"
   ]
  },
  {
   "cell_type": "code",
   "execution_count": 24,
   "metadata": {
    "colab": {
     "base_uri": "https://localhost:8080/",
     "height": 295
    },
    "executionInfo": {
     "elapsed": 797,
     "status": "ok",
     "timestamp": 1642537177509,
     "user": {
      "displayName": "Loc Ngo Duc",
      "photoUrl": "https://lh3.googleusercontent.com/a-/AOh14GjiaivwXodMqpbumwJ78tanrKuucqr3i43WVZpF=s64",
      "userId": "12597202813687440619"
     },
     "user_tz": -420
    },
    "id": "W_33Ej32KIM0",
    "outputId": "08b72b9b-31d3-4acd-9a04-59e98009a4a9"
   },
   "outputs": [
    {
     "data": {
      "image/png": "[encoded data removed]",
      "text/plain": [
       "<Figure size 432x288 with 1 Axes>"
      ]
     },
     "metadata": {
      "needs_background": "light"
     },
     "output_type": "display_data"
    }
   ],
   "source": [
    "plt.grid(False)\n",
    "plt.xticks(range(10))\n",
    "plt.yticks([])\n",
    "plt.bar(range(10), demo)\n",
    "plt.ylim([0, 1])\n",
    "  # predicted_label = np.argmax(predictions_array)\n",
    "_ = plt.xticks(range(10), fashion_mnist_labels, rotation=45)\n",
    "  # thisplot[predicted_label].set_color('red')\n",
    "  # thisplot[true_label].set_color('blue')\n",
    "plt.show()"
   ]
  }
 ],
 "metadata": {
  "colab": {
   "collapsed_sections": [],
   "name": "đồ án thị giác máy tính.ipynb",
   "provenance": [
    {
     "file_id": "https://github.com/leanhducprovn/cdn/blob/master/tlu/elearning/machine-learning/fashion-mnist/fashion-mnist.ipynb",
     "timestamp": 1642415862534
    }
   ],
   "toc_visible": true
  },
  "kernelspec": {
   "display_name": "Python 3 (ipykernel)",
   "language": "python",
   "name": "python3"
  },
  "language_info": {
   "codemirror_mode": {
    "name": "ipython",
    "version": 3
   },
   "file_extension": ".py",
   "mimetype": "text/x-python",
   "name": "python",
   "nbconvert_exporter": "python",
   "pygments_lexer": "ipython3",
   "version": "3.9.7"
  }
 },
 "nbformat": 4,
 "nbformat_minor": 1
}
